{
 "cells": [
  {
   "cell_type": "code",
   "execution_count": null,
   "metadata": {},
   "outputs": [],
   "source": [
    "# Get us into the correct directory to import our fb_auth class\n",
    "%cd ../lwll_api"
   ]
  },
  {
   "cell_type": "code",
   "execution_count": null,
   "metadata": {},
   "outputs": [],
   "source": [
    "# By doing this import, it instantiates a class which reads our appropriate firebase account creds so that\n",
    "# we can import firebase_admin directly after and be authenticated to the database of interest\n",
    "from lwll_api.classes.fb_auth import fb_store"
   ]
  },
  {
   "cell_type": "code",
   "execution_count": 3,
   "metadata": {},
   "outputs": [],
   "source": [
    "from firebase_admin import auth"
   ]
  },
  {
   "attachments": {},
   "cell_type": "markdown",
   "metadata": {},
   "source": [
    "```\n",
    "uid – User ID to assign to the newly created user (optional).\n",
    "display_name – The user’s display name (optional).\n",
    "email – The user’s primary email (optional).\n",
    "email_verified – A boolean indicating whether or not the user’s primary email is verified (optional).\n",
    "phone_number – The user’s primary phone number (optional).\n",
    "photo_url – The user’s photo URL (optional).\n",
    "password – The user’s raw, unhashed password. (optional).\n",
    "disabled – A boolean indicating whether or not the user account is disabled (optional).\n",
    "app – An App instance (optional).\n",
    "```"
   ]
  },
  {
   "cell_type": "code",
   "execution_count": 5,
   "metadata": {},
   "outputs": [],
   "source": [
    "# For simplicity we instantiate the password as a unique id, UI functionality to change this will be built in later\n",
    "# at the creation of UI to watch sessions\n",
    "\n",
    "lwll_user_list = [\n",
    "    {'team': 'ExampleTeam', 'email': 'example@team.com', 'password': '12345', 'uid': 'someuid', 'permissions':['user']},\n",
    "    {'team': 'ExampleGovTeam', 'email': 'exampleGov@team.com', 'password': '12345', 'uid': 'someotheruid', 'permissions': ['user', 'gov']},\n",
    "\n",
    "]"
   ]
  },
  {
   "cell_type": "code",
   "execution_count": 22,
   "metadata": {},
   "outputs": [],
   "source": [
    "# Example getting user by uid\n",
    "# u = auth.get_user('401e4afa-7892-4ed6-8afe-ef636c1993a4')\n"
   ]
  },
  {
   "cell_type": "code",
   "execution_count": 24,
   "metadata": {},
   "outputs": [],
   "source": [
    "#u.display_name"
   ]
  },
  {
   "attachments": {},
   "cell_type": "markdown",
   "metadata": {},
   "source": [
    "Step 1 is to run this loop to create the users if they don't exist"
   ]
  },
  {
   "cell_type": "code",
   "execution_count": null,
   "metadata": {},
   "outputs": [],
   "source": [
    "for user in lwll_user_list:\n",
    "    try:\n",
    "        auth.create_user(uid=user['uid'], display_name=user['team'], password=user['password'])\n",
    "        fb_store.collection('Users').document(user['uid']).set({'team':user['team'], 'permissions':user['permissions']})\n",
    "        print(f\"User `{user['team']} : {user['uid']}` created!\")\n",
    "    except auth.UidAlreadyExistsError:\n",
    "        print(f\"User `{user['team']} : {user['uid']}` already exsists, skipping...\")"
   ]
  },
  {
   "cell_type": "code",
   "execution_count": null,
   "metadata": {},
   "outputs": [],
   "source": []
  },
  {
   "attachments": {},
   "cell_type": "markdown",
   "metadata": {},
   "source": [
    "Step 2\n",
    "\n",
    "These accounts were created anonymously the first time, so let's add an email to them with our admin sdk so that people will be able to authenticate against them to sign in and view their stats."
   ]
  },
  {
   "cell_type": "code",
   "execution_count": null,
   "metadata": {},
   "outputs": [],
   "source": [
    "for user in lwll_user_list:\n",
    "    print(f\"Updating user: {user['uid']}\")\n",
    "    auth.update_user(user['uid'], email= user['email'], email_verified=True, disabled=False, password=user['password'])\n",
    "    fb_store.collection('Users').document(user['uid']).update({'active':True})\n",
    "    "
   ]
  },
  {
   "cell_type": "code",
   "execution_count": null,
   "metadata": {},
   "outputs": [],
   "source": []
  },
  {
   "cell_type": "code",
   "execution_count": null,
   "metadata": {},
   "outputs": [],
   "source": []
  }
 ],
 "metadata": {
  "kernelspec": {
   "display_name": "Python 3",
   "language": "python",
   "name": "python3"
  },
  "language_info": {
   "codemirror_mode": {
    "name": "ipython",
    "version": 3
   },
   "file_extension": ".py",
   "mimetype": "text/x-python",
   "name": "python",
   "nbconvert_exporter": "python",
   "pygments_lexer": "ipython3",
   "version": "3.7.6"
  }
 },
 "nbformat": 4,
 "nbformat_minor": 2
}
